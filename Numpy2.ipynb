{
 "cells": [
  {
   "cell_type": "code",
   "execution_count": 1,
   "metadata": {},
   "outputs": [],
   "source": [
    "#importing the library\n",
    "import numpy as np"
   ]
  },
  {
   "cell_type": "code",
   "execution_count": 2,
   "metadata": {},
   "outputs": [
    {
     "name": "stdout",
     "output_type": "stream",
     "text": [
      "mArray: [ 1  2  3  4  5  6  7  8  9 10]\n"
     ]
    }
   ],
   "source": [
    "#usage of arange\n",
    "#arange(start,stop,step,dtype)\n",
    "#printing the numbers from 1 to 10\n",
    "mArray = np.arange(1,11)\n",
    "print('mArray:',mArray)"
   ]
  },
  {
   "cell_type": "code",
   "execution_count": 3,
   "metadata": {},
   "outputs": [
    {
     "name": "stdout",
     "output_type": "stream",
     "text": [
      "mArray2:  [1 3 5 7 9]\n"
     ]
    }
   ],
   "source": [
    "#printing all the odds from 1 to 10\n",
    "mArray2 = np.arange(1,11,2,int)\n",
    "print('mArray2: ',mArray2)"
   ]
  },
  {
   "cell_type": "code",
   "execution_count": 4,
   "metadata": {},
   "outputs": [
    {
     "name": "stdout",
     "output_type": "stream",
     "text": [
      "mArray3:  [ 0  2  4  6  8 10]\n"
     ]
    }
   ],
   "source": [
    "#printing all the evens upto to 10\n",
    "mArray3 = np.arange(0,11,2,int)\n",
    "print('mArray3: ',mArray3)"
   ]
  },
  {
   "cell_type": "code",
   "execution_count": 5,
   "metadata": {},
   "outputs": [
    {
     "name": "stdout",
     "output_type": "stream",
     "text": [
      "mArray4: [ 1.  2.  3.  4.  5.  6.  7.  8.  9. 10.]\n"
     ]
    }
   ],
   "source": [
    "#printing floating values of 1 to 10\n",
    "mArray4 = np.arange(1,11,1,float)\n",
    "print('mArray4:',mArray4)"
   ]
  },
  {
   "cell_type": "code",
   "execution_count": 6,
   "metadata": {},
   "outputs": [
    {
     "name": "stdout",
     "output_type": "stream",
     "text": [
      "mArray5:  [10.  12.5 15.  17.5 20. ]\n"
     ]
    }
   ],
   "source": [
    "#usage of linspace\n",
    "#linspace(start,stop,num,endpoint=True,retstep=False,dtype=None)\n",
    "#showing 5 equal intervals between 10 to 20\n",
    "mArray5 = np.linspace(10,20,5)\n",
    "print('mArray5: ',mArray5)"
   ]
  },
  {
   "cell_type": "code",
   "execution_count": 7,
   "metadata": {},
   "outputs": [
    {
     "name": "stdout",
     "output_type": "stream",
     "text": [
      "mArray6:  (array([2.  , 2.25, 2.5 , 2.75, 3.  ]), 0.25)\n"
     ]
    }
   ],
   "source": [
    "# retstep set to true\n",
    "mArray6 = np.linspace(2.0,3.0, num=5, retstep=True)\n",
    "print('mArray6: ',mArray6)"
   ]
  },
  {
   "cell_type": "code",
   "execution_count": 8,
   "metadata": {},
   "outputs": [
    {
     "name": "stdout",
     "output_type": "stream",
     "text": [
      "x: [0.         0.22039774 0.42995636 0.6183698  0.77637192 0.8961922\n",
      " 0.9719379  0.99988386 0.9786557  0.90929743]\n"
     ]
    }
   ],
   "source": [
    "#to evaluate sin() in long range\n",
    "x = np.linspace(0,2,10)\n",
    "print('x:',np.sin(x))"
   ]
  },
  {
   "cell_type": "code",
   "execution_count": 9,
   "metadata": {},
   "outputs": [
    {
     "name": "stdout",
     "output_type": "stream",
     "text": [
      "y: [10. 12. 14. 16. 18.]\n"
     ]
    }
   ],
   "source": [
    "#setting endpoint to False\n",
    "y = np.linspace(10,20,5,endpoint=False)\n",
    "print('y:',y)"
   ]
  },
  {
   "cell_type": "code",
   "execution_count": 10,
   "metadata": {},
   "outputs": [
    {
     "name": "stdout",
     "output_type": "stream",
     "text": [
      "a1:  [1 2 3]\n",
      "\n",
      "a2:  [[11 12]\n",
      " [13 14]\n",
      " [15 16]]\n"
     ]
    }
   ],
   "source": [
    "#aggregate functions\n",
    "#sum,average,min,max,mean,median,product\n",
    "a1 = np.array([1,2,3])\n",
    "print('a1: ',a1)\n",
    "a2 = np.array([[11,12],[13,14],[15,16]])\n",
    "print('\\na2: ',a2)"
   ]
  },
  {
   "cell_type": "code",
   "execution_count": 11,
   "metadata": {},
   "outputs": [
    {
     "name": "stdout",
     "output_type": "stream",
     "text": [
      "sum a1:  6\n",
      "\n",
      "sum a2:  81\n"
     ]
    }
   ],
   "source": [
    "#printing the sum of all the elements from a1 and a2\n",
    "print('sum a1: ',a1.sum())\n",
    "print('\\nsum a2: ',a2.sum())"
   ]
  },
  {
   "cell_type": "code",
   "execution_count": 12,
   "metadata": {},
   "outputs": [
    {
     "name": "stdout",
     "output_type": "stream",
     "text": [
      "sum of coloums in a2:  [39 42]\n",
      "\n",
      "sum of rows in a2:  [23 27 31]\n"
     ]
    }
   ],
   "source": [
    "#printing the sum of each coloums in a2\n",
    "print('sum of coloums in a2: ',a2.sum(axis=0))\n",
    "#printing the sum of each row in a2\n",
    "print('\\nsum of rows in a2: ',a2.sum(axis=1))"
   ]
  },
  {
   "cell_type": "code",
   "execution_count": 13,
   "metadata": {},
   "outputs": [
    {
     "name": "stdout",
     "output_type": "stream",
     "text": [
      "Average of a1:  2.0\n",
      "Average of a2:  13.5\n"
     ]
    }
   ],
   "source": [
    "#average of elements\n",
    "print('Average of a1: ',np.average(a1))\n",
    "print('Average of a2: ',np.average(a2))"
   ]
  },
  {
   "cell_type": "code",
   "execution_count": 14,
   "metadata": {},
   "outputs": [
    {
     "name": "stdout",
     "output_type": "stream",
     "text": [
      "Average of coloums in a2:  [13. 14.]\n",
      "Average of rows in a2:  [11.5 13.5 15.5]\n"
     ]
    }
   ],
   "source": [
    "#average using axes\n",
    "print('Average of coloums in a2: ',np.average(a2,axis=0))\n",
    "print('Average of rows in a2: ',np.average(a2,1))"
   ]
  },
  {
   "cell_type": "code",
   "execution_count": 15,
   "metadata": {},
   "outputs": [
    {
     "name": "stdout",
     "output_type": "stream",
     "text": [
      "Product of a1:  6\n",
      "Product of a2:  5765760\n"
     ]
    }
   ],
   "source": [
    "#product of arrays\n",
    "print('Product of a1: ',np.prod(a1))\n",
    "print('Product of a2: ',np.prod(a2))"
   ]
  },
  {
   "cell_type": "code",
   "execution_count": 16,
   "metadata": {},
   "outputs": [
    {
     "name": "stdout",
     "output_type": "stream",
     "text": [
      "Product of columns of a2:  [2145 2688]\n",
      "Product of rows of a2:  [132 182 240]\n"
     ]
    }
   ],
   "source": [
    "#product using axes\n",
    "print('Product of columns of a2: ',np.prod(a2,0))\n",
    "print('Product of rows of a2: ',np.prod(a2,1))"
   ]
  },
  {
   "cell_type": "code",
   "execution_count": 17,
   "metadata": {},
   "outputs": [
    {
     "name": "stdout",
     "output_type": "stream",
     "text": [
      "Maximum from a1:  3\n",
      "Minimum from a1:  1\n",
      "\n",
      "Maximum from a2:  16\n",
      "Minimum from a2:  11\n",
      "\n",
      "Maximum of colomns from a2:  [15 16]\n",
      "Minimum of columns from a2:  [11 12]\n",
      "\n",
      "Maximum of rows from a2:  [12 14 16]\n",
      "Minimum of rows from a2:  [11 13 15]\n"
     ]
    }
   ],
   "source": [
    "#minimum and maximum\n",
    "print('Maximum from a1: ',a1.max())\n",
    "print('Minimum from a1: ',a1.min())\n",
    "\n",
    "print('\\nMaximum from a2: ',a2.max())\n",
    "print('Minimum from a2: ',a2.min())\n",
    "\n",
    "# for rows and columns\n",
    "print('\\nMaximum of colomns from a2: ',a2.max(0))\n",
    "print('Minimum of columns from a2: ',a2.min(0))\n",
    "\n",
    "print('\\nMaximum of rows from a2: ',a2.max(1))\n",
    "print('Minimum of rows from a2: ',a2.min(1))\n"
   ]
  },
  {
   "cell_type": "code",
   "execution_count": 18,
   "metadata": {},
   "outputs": [
    {
     "name": "stdout",
     "output_type": "stream",
     "text": [
      "Mean of a1:  2.0\n",
      "Mean of a2:  13.5\n",
      "\n",
      "Median of a1:  2.0\n",
      "Median of a2:  13.5\n",
      "\n",
      "Mean of colums of a2:  [13. 14.]\n",
      "Mean of rows of a2:  [11.5 13.5 15.5]\n",
      "\n",
      "Median of colums of a2:  [13. 14.]\n",
      "Median of rows of a2:  [11.5 13.5 15.5]\n"
     ]
    }
   ],
   "source": [
    "#mean\n",
    "print('Mean of a1: ',a1.mean())\n",
    "print('Mean of a2: ',a2.mean())\n",
    "\n",
    "#median\n",
    "print('\\nMedian of a1: ',np.median(a1))\n",
    "print('Median of a2: ',np.median(a2))\n",
    "\n",
    "#mean of coloums and rows\n",
    "print('\\nMean of colums of a2: ',a2.mean(0))\n",
    "print('Mean of rows of a2: ',a2.mean(1))\n",
    "\n",
    "#median of colums and rows\n",
    "print('\\nMedian of colums of a2: ',np.median(a2,0))\n",
    "print('Median of rows of a2: ',np.median(a2,1))"
   ]
  },
  {
   "cell_type": "code",
   "execution_count": null,
   "metadata": {},
   "outputs": [],
   "source": []
  }
 ],
 "metadata": {
  "kernelspec": {
   "display_name": "Python 3",
   "language": "python",
   "name": "python3"
  },
  "language_info": {
   "codemirror_mode": {
    "name": "ipython",
    "version": 3
   },
   "file_extension": ".py",
   "mimetype": "text/x-python",
   "name": "python",
   "nbconvert_exporter": "python",
   "pygments_lexer": "ipython3",
   "version": "3.8.5"
  }
 },
 "nbformat": 4,
 "nbformat_minor": 4
}
