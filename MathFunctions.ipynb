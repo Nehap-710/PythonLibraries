{
 "cells": [
  {
   "cell_type": "code",
   "execution_count": 1,
   "metadata": {},
   "outputs": [],
   "source": [
    "#importing the libary\n",
    "import math"
   ]
  },
  {
   "cell_type": "code",
   "execution_count": 3,
   "metadata": {},
   "outputs": [
    {
     "name": "stdout",
     "output_type": "stream",
     "text": [
      "Square root of 9 is  3.0\n",
      "Ceil of 10.2 is  11\n",
      "Floor of 10.2 is  10\n",
      "Factorial of 4 is  24\n",
      "2 raised to 3 is  8.0\n",
      "Sine of 45 is  0.8509035245341184\n",
      "Cosine of 45 is  0.5253219888177297\n",
      "Tangent of 45 is  1.6197751905438615\n"
     ]
    }
   ],
   "source": [
    "#Square Root Calculation\n",
    "print(\"Square root of 9 is \",math.sqrt(9))\n",
    "\n",
    "#Returns the smallest integer greater than or equal to x.\n",
    "print(\"Ceil of 10.2 is \",math.ceil(10.2))\n",
    "\n",
    "#Returns the largest integer less than or equal to x\n",
    "print(\"Floor of 10.2 is \",math.floor(10.2))\n",
    "\n",
    "#Returns the factorial of x\n",
    "print(\"Factorial of 4 is \",math.factorial(4))\n",
    "\n",
    "#Returns x raised to the power y\n",
    "print(\"2 raised to 3 is \",math.pow(2,3))\n",
    "\n",
    "#Returns the sine of x\n",
    "print(\"Sine of 45 is \",math.sin(45))\n",
    "\n",
    "#Returns the cosine of x\n",
    "print(\"Cosine of 45 is \",math.cos(45))\n",
    "\n",
    "#Returns the tangent of x\n",
    "print(\"Tangent of 45 is \",math.tan(45))"
   ]
  },
  {
   "cell_type": "code",
   "execution_count": null,
   "metadata": {},
   "outputs": [],
   "source": []
  }
 ],
 "metadata": {
  "kernelspec": {
   "display_name": "Python 3",
   "language": "python",
   "name": "python3"
  },
  "language_info": {
   "codemirror_mode": {
    "name": "ipython",
    "version": 3
   },
   "file_extension": ".py",
   "mimetype": "text/x-python",
   "name": "python",
   "nbconvert_exporter": "python",
   "pygments_lexer": "ipython3",
   "version": "3.8.5"
  }
 },
 "nbformat": 4,
 "nbformat_minor": 4
}
