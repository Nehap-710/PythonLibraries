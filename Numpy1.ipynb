{
 "cells": [
  {
   "cell_type": "code",
   "execution_count": 1,
   "metadata": {},
   "outputs": [],
   "source": [
    "#importing the library\n",
    "import numpy as np"
   ]
  },
  {
   "cell_type": "code",
   "execution_count": 2,
   "metadata": {},
   "outputs": [
    {
     "name": "stdout",
     "output_type": "stream",
     "text": [
      "A: [[10, 20, 30], [40, 50, 60]]\n",
      "B: [[10 20 30]\n",
      " [40 50 60]]\n"
     ]
    }
   ],
   "source": [
    "#How numpy is different\n",
    "A=[[10,20,30],[40,50,60]]\n",
    "B=np.array(A)\n",
    "print('A:',A)\n",
    "print('B:',B)"
   ]
  },
  {
   "cell_type": "code",
   "execution_count": 3,
   "metadata": {},
   "outputs": [
    {
     "name": "stdout",
     "output_type": "stream",
     "text": [
      "Datatype of C: int32\n",
      "Datatype of D: float64\n"
     ]
    }
   ],
   "source": [
    "#Displaying the datatype of numpy arrays\n",
    "C=np.array([10,20,30])\n",
    "print('Datatype of C:',C.dtype)\n",
    "D=np.array([10.2,20.5,50.92])\n",
    "print('Datatype of D:',D.dtype)"
   ]
  },
  {
   "cell_type": "code",
   "execution_count": 4,
   "metadata": {},
   "outputs": [
    {
     "name": "stdout",
     "output_type": "stream",
     "text": [
      "Dimension of B 2\n",
      "Dimension of C 1\n"
     ]
    }
   ],
   "source": [
    "#display the dimension of array( axes in array)\n",
    "print('Dimension of B',B.ndim)\n",
    "print('Dimension of C',C.ndim)"
   ]
  },
  {
   "cell_type": "code",
   "execution_count": 5,
   "metadata": {},
   "outputs": [
    {
     "name": "stdout",
     "output_type": "stream",
     "text": [
      "Shape of Array B: (2, 3)\n",
      "Shape of Array C: (3,)\n"
     ]
    }
   ],
   "source": [
    "#displaying the shape(no of rows and coloums)\n",
    "print('Shape of Array B:',B.shape)\n",
    "print('Shape of Array C:',C.shape)"
   ]
  },
  {
   "cell_type": "code",
   "execution_count": 6,
   "metadata": {},
   "outputs": [
    {
     "name": "stdout",
     "output_type": "stream",
     "text": [
      "Before reshaping B: [[10 20 30]\n",
      " [40 50 60]]\n",
      "\n",
      "After reshaping B: [[10 20]\n",
      " [30 40]\n",
      " [50 60]]\n",
      "\n",
      "\n",
      "Before reshaping C: [10 20 30]\n",
      "\n",
      "After reshaping C: [[10 20 30]]\n"
     ]
    }
   ],
   "source": [
    "#reshaping the arrays\n",
    "print(\"Before reshaping B:\",B)\n",
    "B = B.reshape(3,2)\n",
    "print(\"\\nAfter reshaping B:\",B)\n",
    "print(\"\\n\\nBefore reshaping C:\",C)\n",
    "C = C.reshape(1,3)\n",
    "print(\"\\nAfter reshaping C:\",C)"
   ]
  },
  {
   "cell_type": "code",
   "execution_count": 8,
   "metadata": {},
   "outputs": [
    {
     "name": "stdout",
     "output_type": "stream",
     "text": [
      "Array 1:\n",
      " [[ 1  2  3]\n",
      " [ 4 10  6]\n",
      " [ 7  8  9]]\n",
      "\n",
      "Array 2:\n",
      " [[1 2 3]\n",
      " [4 5 6]\n",
      " [7 8 9]]\n"
     ]
    }
   ],
   "source": [
    "#copy operation\n",
    "arr1 = np.array([[1,2,3],[4,5,6],[7,8,9]])\n",
    "arr2=arr1.copy()\n",
    "arr1[1][1]=10\n",
    "print('Array 1:\\n',arr1)\n",
    "print('\\nArray 2:\\n',arr2)"
   ]
  },
  {
   "cell_type": "code",
   "execution_count": 9,
   "metadata": {},
   "outputs": [
    {
     "name": "stdout",
     "output_type": "stream",
     "text": [
      "Array 1:\n",
      " [[ 1  2  3]\n",
      " [ 4 10  6]\n",
      " [ 7  8  9]]\n",
      "\n",
      "Array 3:\n",
      " [[ 1  2  3]\n",
      " [ 4 10  6]\n",
      " [ 7  8  9]]\n"
     ]
    }
   ],
   "source": [
    "#view operation\n",
    "arr3 = arr1.view()\n",
    "print('Array 1:\\n',arr1)\n",
    "print('\\nArray 3:\\n',arr3)"
   ]
  },
  {
   "cell_type": "code",
   "execution_count": 10,
   "metadata": {},
   "outputs": [
    {
     "name": "stdout",
     "output_type": "stream",
     "text": [
      "Array 1:\n",
      " [[ 1  2  3]\n",
      " [ 5 10  6]\n",
      " [ 7  8  9]]\n",
      "\n",
      "Array 4:\n",
      " [[ 1  2  3]\n",
      " [ 5 10  6]\n",
      " [ 7  8  9]]\n"
     ]
    }
   ],
   "source": [
    "#difference between copy and view\n",
    "arr4 = arr1.view()\n",
    "arr1[1][0]=5\n",
    "print('Array 1:\\n',arr1)\n",
    "print('\\nArray 4:\\n',arr4)"
   ]
  },
  {
   "cell_type": "code",
   "execution_count": 11,
   "metadata": {},
   "outputs": [
    {
     "data": {
      "text/plain": [
       "array([[11, 12, 13],\n",
       "       [14, 15, 16]])"
      ]
     },
     "execution_count": 11,
     "metadata": {},
     "output_type": "execute_result"
    }
   ],
   "source": [
    "#indexing and slicing\n",
    "a = np.array([[11,12,13],[14,15,16]])\n",
    "a"
   ]
  },
  {
   "cell_type": "code",
   "execution_count": 12,
   "metadata": {},
   "outputs": [
    {
     "name": "stdout",
     "output_type": "stream",
     "text": [
      "a[1,1]: 15\n",
      "\n",
      "a[0,-1] 13\n"
     ]
    }
   ],
   "source": [
    "print('a[1,1]:',a[1,1]) #indexing\n",
    "print('\\na[0,-1]',a[0,-1]) #last item of first row"
   ]
  },
  {
   "cell_type": "code",
   "execution_count": 13,
   "metadata": {},
   "outputs": [
    {
     "name": "stdout",
     "output_type": "stream",
     "text": [
      "a[0,1:] [12 13]\n",
      "\n",
      "a[1]: [14 15 16]\n",
      "\n",
      "a[1,:] [14 15 16]\n"
     ]
    }
   ],
   "source": [
    "#slicing the first row\n",
    "print('a[0,1:]',a[0,1:])\n",
    "#missing indices are treated as complete slices\n",
    "print('\\na[1]:',a[1])\n",
    "print('\\na[1,:]',a[1,:])"
   ]
  },
  {
   "cell_type": "code",
   "execution_count": null,
   "metadata": {},
   "outputs": [],
   "source": []
  }
 ],
 "metadata": {
  "kernelspec": {
   "display_name": "Python 3",
   "language": "python",
   "name": "python3"
  },
  "language_info": {
   "codemirror_mode": {
    "name": "ipython",
    "version": 3
   },
   "file_extension": ".py",
   "mimetype": "text/x-python",
   "name": "python",
   "nbconvert_exporter": "python",
   "pygments_lexer": "ipython3",
   "version": "3.8.5"
  }
 },
 "nbformat": 4,
 "nbformat_minor": 4
}
