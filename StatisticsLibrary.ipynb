{
 "cells": [
  {
   "cell_type": "code",
   "execution_count": 1,
   "metadata": {},
   "outputs": [],
   "source": [
    "#importing the library\n",
    "from statistics import mean, median, mode, stdev"
   ]
  },
  {
   "cell_type": "code",
   "execution_count": 2,
   "metadata": {},
   "outputs": [
    {
     "name": "stdout",
     "output_type": "stream",
     "text": [
      "Mean: 83.4\n",
      "Median: 83\n",
      "Mode: 83\n",
      "Standard Deviation: 14.842506526863986\n"
     ]
    }
   ],
   "source": [
    "#giving input dataset in the form of array\n",
    "scores = [60, 83, 83, 91, 100]\n",
    "\n",
    "#calculating mean\n",
    "print(\"Mean:\",mean(scores))\n",
    "\n",
    "#calculating median\n",
    "print(\"Median:\",median(scores))\n",
    "\n",
    "#calculating mode\n",
    "print(\"Mode:\",mode(scores))\n",
    "\n",
    "#calculating standard deviation\n",
    "print(\"Standard Deviation:\",stdev(scores))"
   ]
  },
  {
   "cell_type": "code",
   "execution_count": null,
   "metadata": {},
   "outputs": [],
   "source": []
  }
 ],
 "metadata": {
  "kernelspec": {
   "display_name": "Python 3",
   "language": "python",
   "name": "python3"
  },
  "language_info": {
   "codemirror_mode": {
    "name": "ipython",
    "version": 3
   },
   "file_extension": ".py",
   "mimetype": "text/x-python",
   "name": "python",
   "nbconvert_exporter": "python",
   "pygments_lexer": "ipython3",
   "version": "3.8.5"
  }
 },
 "nbformat": 4,
 "nbformat_minor": 4
}
